{
 "cells": [
  {
   "cell_type": "markdown",
   "id": "9181d83c",
   "metadata": {},
   "source": [
    "# Task 1: News Topic Classifier Using BERT\n",
    "Fine-tune a transformer model (BERT) to classify news headlines into topic categories.\n"
   ]
  },
  {
   "cell_type": "code",
   "execution_count": null,
   "id": "3928de03",
   "metadata": {},
   "outputs": [],
   "source": [
    "!pip install torch torchvision torchaudio --index-url https://download.pytorch.org/whl/cu118\n",
    "!pip install ipywidgets\n"
   ]
  },
  {
   "cell_type": "code",
   "execution_count": null,
   "id": "17a32de4-b49c-443d-8c1a-4fa980cd37ff",
   "metadata": {},
   "outputs": [],
   "source": [
    "import os\n",
    "os.environ[\"HF_HUB_DISABLE_SYMLINKS_WARNING\"] = \"1\"\n",
    "\n",
    "os.environ[\"TRANSFORMERS_NO_TF\"] = \"1\"  \n",
    "\n",
    "import torch\n",
    "from datasets import load_dataset\n",
    "from transformers import BertTokenizerFast, BertForSequenceClassification, TrainingArguments, Trainer\n",
    "import evaluate\n",
    "import numpy as np\n"
   ]
  },
  {
   "cell_type": "code",
   "execution_count": 29,
   "id": "48595afb-e51a-47b1-94b2-0c0bc95dbecb",
   "metadata": {},
   "outputs": [],
   "source": [
    "\n",
    "# 1. Load Dataset\n",
    "dataset = load_dataset(\"ag_news\")\n"
   ]
  },
  {
   "cell_type": "code",
   "execution_count": 30,
   "id": "a0d51115-65d9-4646-9368-3f88cc71f7f7",
   "metadata": {},
   "outputs": [],
   "source": [
    "# 2. Load Tokenizer\n",
    "tokenizer = BertTokenizerFast.from_pretrained(\"bert-base-uncased\")\n",
    "\n",
    "# Tokenize function\n",
    "def tokenize(batch):\n",
    "    return tokenizer(batch[\"text\"], padding=\"max_length\", truncation=True)\n",
    "\n",
    "dataset = dataset.map(tokenize, batched=True)\n"
   ]
  },
  {
   "cell_type": "code",
   "execution_count": null,
   "id": "1ad9f433-c73f-4f8c-94a8-77a3842f7c7b",
   "metadata": {},
   "outputs": [],
   "source": [
    "# 3. Prepare dataset for PyTorch\n",
    "dataset = dataset.rename_column(\"label\", \"labels\")\n",
    "dataset.set_format(\"torch\", columns=[\"input_ids\", \"attention_mask\", \"labels\"])\n",
    "\n",
    "train_dataset = dataset[\"train\"]\n",
    "test_dataset = dataset[\"test\"]\n"
   ]
  },
  {
   "cell_type": "code",
   "execution_count": null,
   "id": "b8985193-ba2d-4f24-ab71-45afc3843eb7",
   "metadata": {},
   "outputs": [],
   "source": [
    "# 4. Load Model\n",
    "model = BertForSequenceClassification.from_pretrained(\"bert-base-uncased\", num_labels=4)\n"
   ]
  },
  {
   "cell_type": "code",
   "execution_count": null,
   "id": "47733ff7-6026-43f8-9d76-a14621fa01c7",
   "metadata": {},
   "outputs": [],
   "source": [
    "# 5. Metrics\n",
    "accuracy = evaluate.load(\"accuracy\")\n",
    "f1 = evaluate.load(\"f1\")\n",
    "\n",
    "def compute_metrics(eval_pred):\n",
    "    logits, labels = eval_pred\n",
    "    preds = np.argmax(logits, axis=-1)\n",
    "    return {\n",
    "        \"accuracy\": accuracy.compute(predictions=preds, references=labels)[\"accuracy\"],\n",
    "        \"f1\": f1.compute(predictions=preds, references=labels, average=\"weighted\")[\"f1\"]\n",
    "    }\n"
   ]
  },
  {
   "cell_type": "code",
   "execution_count": null,
   "id": "dc5f22de-d00f-4d2b-8d3c-0b852e3d3b1d",
   "metadata": {},
   "outputs": [],
   "source": [
    "# 6. Training\n",
    "training_args = TrainingArguments(\n",
    "    output_dir=\"./results\",\n",
    "    evaluation_strategy=\"epoch\",\n",
    "    save_strategy=\"epoch\",\n",
    "    learning_rate=2e-5,\n",
    "    per_device_train_batch_size=16,\n",
    "    per_device_eval_batch_size=16,\n",
    "    num_train_epochs=2,\n",
    "    weight_decay=0.01,\n",
    "    logging_dir=\"./logs\",\n",
    "    logging_steps=50,\n",
    "    push_to_hub=False,\n",
    ")\n",
    "\n",
    "trainer = Trainer(\n",
    "    model=model,\n",
    "    args=training_args,\n",
    "    train_dataset=train_dataset,\n",
    "    eval_dataset=test_dataset,\n",
    "    tokenizer=tokenizer,\n",
    "    compute_metrics=compute_metrics,\n",
    ")\n",
    "\n",
    "trainer.train()\n"
   ]
  },
  {
   "cell_type": "code",
   "execution_count": null,
   "id": "e2a58130-b318-4b33-b72c-da8ac1fa1b57",
   "metadata": {},
   "outputs": [],
   "source": [
    "# 7. Evaluate\n",
    "results = trainer.evaluate()\n",
    "print(results)\n"
   ]
  },
  {
   "cell_type": "code",
   "execution_count": null,
   "id": "4b063583-4496-4957-b7f8-4140a22e3b66",
   "metadata": {},
   "outputs": [],
   "source": [
    "# 8. Deploy with Gradio\n",
    "import gradio as gr\n",
    "\n",
    "def predict_news(text):\n",
    "    inputs = tokenizer(text, return_tensors=\"pt\", truncation=True, padding=True)\n",
    "    outputs = model(**inputs)\n",
    "    preds = outputs.logits.argmax(dim=1).item()\n",
    "    labels = [\"World\", \"Sports\", \"Business\", \"Sci/Tech\"]\n",
    "    return labels[preds]\n",
    "\n",
    "demo = gr.Interface(fn=predict_news, inputs=\"text\", outputs=\"label\")\n",
    "demo.launch(share=True)"
   ]
  }
 ],
 "metadata": {
  "kernelspec": {
   "display_name": "Python (py311)",
   "language": "python",
   "name": "py311"
  },
  "language_info": {
   "codemirror_mode": {
    "name": "ipython",
    "version": 3
   },
   "file_extension": ".py",
   "mimetype": "text/x-python",
   "name": "python",
   "nbconvert_exporter": "python",
   "pygments_lexer": "ipython3",
   "version": "3.11.13"
  }
 },
 "nbformat": 4,
 "nbformat_minor": 5
}
