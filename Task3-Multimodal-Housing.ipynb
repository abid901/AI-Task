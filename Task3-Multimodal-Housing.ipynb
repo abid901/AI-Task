{
 "cells": [
  {
   "cell_type": "markdown",
   "id": "3f235f15",
   "metadata": {},
   "source": [
    "# Task 3: Multimodal Housing Price Prediction\n",
    "Combine image + tabular data for regression.\n"
   ]
  },
  {
   "cell_type": "code",
   "execution_count": 1,
   "id": "e64732f1",
   "metadata": {},
   "outputs": [],
   "source": [
    "# Install packages (run once)\n",
    "!pip install -q tensorflow keras pandas scikit-learn matplotlib pillow\n"
   ]
  },
  {
   "cell_type": "code",
   "execution_count": 2,
   "id": "f64cee1e-5987-44bc-9585-6b5564fc1a02",
   "metadata": {},
   "outputs": [],
   "source": [
    "import os\n",
    "import numpy as np\n",
    "import pandas as pd\n",
    "from glob import glob\n",
    "from PIL import Image\n",
    "\n",
    "import matplotlib.pyplot as plt\n",
    "\n",
    "from sklearn.model_selection import train_test_split\n",
    "from sklearn.preprocessing import StandardScaler\n",
    "from sklearn.metrics import mean_absolute_error, mean_squared_error\n",
    "\n",
    "import tensorflow as tf\n",
    "from tensorflow.keras.models import Model\n",
    "from tensorflow.keras.layers import Input, Dense, Flatten, Concatenate\n",
    "from tensorflow.keras.layers import Conv2D, MaxPooling2D, Dropout\n",
    "from tensorflow.keras.optimizers import Adam\n"
   ]
  },
  {
   "cell_type": "code",
   "execution_count": 3,
   "id": "7227ff5a-835b-47c4-9590-618596ce50c9",
   "metadata": {},
   "outputs": [],
   "source": [
    "# Number of samples\n",
    "N = 50\n",
    "\n",
    "# Synthetic tabular features\n",
    "np.random.seed(42)\n",
    "df = pd.DataFrame({\n",
    "    \"bedrooms\": np.random.randint(1, 6, N),\n",
    "    \"bathrooms\": np.random.randint(1, 4, N),\n",
    "    \"sqft_living\": np.random.randint(500, 4000, N),\n",
    "    \"price\": np.random.randint(100000, 1000000, N),\n",
    "})\n",
    "\n",
    "# Synthetic images as random noise (128x128 RGB)\n",
    "IMG_SIZE = (128, 128)\n",
    "X_img = np.random.rand(N, IMG_SIZE[0], IMG_SIZE[1], 3)\n",
    "\n",
    "# Tabular features\n",
    "tabular_features = [\"bedrooms\", \"bathrooms\", \"sqft_living\"]\n",
    "X_tab = df[tabular_features].values\n",
    "y = df[\"price\"].values\n"
   ]
  },
  {
   "cell_type": "code",
   "execution_count": 4,
   "id": "1030048e-1d4f-49a0-8d52-3f1bfd327cca",
   "metadata": {},
   "outputs": [],
   "source": [
    "\n",
    "scaler = StandardScaler()\n",
    "X_tab = scaler.fit_transform(X_tab)\n"
   ]
  },
  {
   "cell_type": "code",
   "execution_count": 5,
   "id": "b65880b9-82c0-4f7e-88fc-a0e7082aa4e5",
   "metadata": {},
   "outputs": [
    {
     "name": "stdout",
     "output_type": "stream",
     "text": [
      "Tabular train: (40, 3) Tabular test: (10, 3)\n",
      "Image train: (40, 128, 128, 3) Image test: (10, 128, 128, 3)\n"
     ]
    }
   ],
   "source": [
    "\n",
    "X_tab_train, X_tab_test, X_img_train, X_img_test, y_train, y_test = train_test_split(\n",
    "    X_tab, X_img, y, test_size=0.2, random_state=42\n",
    ")\n",
    "print(\"Tabular train:\", X_tab_train.shape, \"Tabular test:\", X_tab_test.shape)\n",
    "print(\"Image train:\", X_img_train.shape, \"Image test:\", X_img_test.shape)"
   ]
  },
  {
   "cell_type": "code",
   "execution_count": 6,
   "id": "f585c625-59d7-477e-894a-870f04a9ec97",
   "metadata": {},
   "outputs": [],
   "source": [
    "# Image input\n",
    "img_input = Input(shape=(IMG_SIZE[0], IMG_SIZE[1], 3))\n",
    "\n",
    "x = Conv2D(32, (3,3), activation='relu')(img_input)\n",
    "x = MaxPooling2D((2,2))(x)\n",
    "x = Conv2D(64, (3,3), activation='relu')(x)\n",
    "x = MaxPooling2D((2,2))(x)\n",
    "x = Flatten()(x)\n",
    "x = Dense(128, activation='relu')(x)\n",
    "x = Dropout(0.3)(x)\n",
    "\n",
    "img_features = x\n"
   ]
  },
  {
   "cell_type": "code",
   "execution_count": 7,
   "id": "823432a9-3e8f-4881-a7b7-3307528bec7a",
   "metadata": {},
   "outputs": [
    {
     "data": {
      "text/html": [
       "<pre style=\"white-space:pre;overflow-x:auto;line-height:normal;font-family:Menlo,'DejaVu Sans Mono',consolas,'Courier New',monospace\"><span style=\"font-weight: bold\">Model: \"functional\"</span>\n",
       "</pre>\n"
      ],
      "text/plain": [
       "\u001b[1mModel: \"functional\"\u001b[0m\n"
      ]
     },
     "metadata": {},
     "output_type": "display_data"
    },
    {
     "data": {
      "text/html": [
       "<pre style=\"white-space:pre;overflow-x:auto;line-height:normal;font-family:Menlo,'DejaVu Sans Mono',consolas,'Courier New',monospace\">┏━━━━━━━━━━━━━━━━━━━━━┳━━━━━━━━━━━━━━━━━━━┳━━━━━━━━━━━━┳━━━━━━━━━━━━━━━━━━━┓\n",
       "┃<span style=\"font-weight: bold\"> Layer (type)        </span>┃<span style=\"font-weight: bold\"> Output Shape      </span>┃<span style=\"font-weight: bold\">    Param # </span>┃<span style=\"font-weight: bold\"> Connected to      </span>┃\n",
       "┡━━━━━━━━━━━━━━━━━━━━━╇━━━━━━━━━━━━━━━━━━━╇━━━━━━━━━━━━╇━━━━━━━━━━━━━━━━━━━┩\n",
       "│ input_layer         │ (<span style=\"color: #00d7ff; text-decoration-color: #00d7ff\">None</span>, <span style=\"color: #00af00; text-decoration-color: #00af00\">128</span>, <span style=\"color: #00af00; text-decoration-color: #00af00\">128</span>,  │          <span style=\"color: #00af00; text-decoration-color: #00af00\">0</span> │ -                 │\n",
       "│ (<span style=\"color: #0087ff; text-decoration-color: #0087ff\">InputLayer</span>)        │ <span style=\"color: #00af00; text-decoration-color: #00af00\">3</span>)                │            │                   │\n",
       "├─────────────────────┼───────────────────┼────────────┼───────────────────┤\n",
       "│ conv2d (<span style=\"color: #0087ff; text-decoration-color: #0087ff\">Conv2D</span>)     │ (<span style=\"color: #00d7ff; text-decoration-color: #00d7ff\">None</span>, <span style=\"color: #00af00; text-decoration-color: #00af00\">126</span>, <span style=\"color: #00af00; text-decoration-color: #00af00\">126</span>,  │        <span style=\"color: #00af00; text-decoration-color: #00af00\">896</span> │ input_layer[<span style=\"color: #00af00; text-decoration-color: #00af00\">0</span>][<span style=\"color: #00af00; text-decoration-color: #00af00\">0</span>] │\n",
       "│                     │ <span style=\"color: #00af00; text-decoration-color: #00af00\">32</span>)               │            │                   │\n",
       "├─────────────────────┼───────────────────┼────────────┼───────────────────┤\n",
       "│ max_pooling2d       │ (<span style=\"color: #00d7ff; text-decoration-color: #00d7ff\">None</span>, <span style=\"color: #00af00; text-decoration-color: #00af00\">63</span>, <span style=\"color: #00af00; text-decoration-color: #00af00\">63</span>,    │          <span style=\"color: #00af00; text-decoration-color: #00af00\">0</span> │ conv2d[<span style=\"color: #00af00; text-decoration-color: #00af00\">0</span>][<span style=\"color: #00af00; text-decoration-color: #00af00\">0</span>]      │\n",
       "│ (<span style=\"color: #0087ff; text-decoration-color: #0087ff\">MaxPooling2D</span>)      │ <span style=\"color: #00af00; text-decoration-color: #00af00\">32</span>)               │            │                   │\n",
       "├─────────────────────┼───────────────────┼────────────┼───────────────────┤\n",
       "│ conv2d_1 (<span style=\"color: #0087ff; text-decoration-color: #0087ff\">Conv2D</span>)   │ (<span style=\"color: #00d7ff; text-decoration-color: #00d7ff\">None</span>, <span style=\"color: #00af00; text-decoration-color: #00af00\">61</span>, <span style=\"color: #00af00; text-decoration-color: #00af00\">61</span>,    │     <span style=\"color: #00af00; text-decoration-color: #00af00\">18,496</span> │ max_pooling2d[<span style=\"color: #00af00; text-decoration-color: #00af00\">0</span>]… │\n",
       "│                     │ <span style=\"color: #00af00; text-decoration-color: #00af00\">64</span>)               │            │                   │\n",
       "├─────────────────────┼───────────────────┼────────────┼───────────────────┤\n",
       "│ max_pooling2d_1     │ (<span style=\"color: #00d7ff; text-decoration-color: #00d7ff\">None</span>, <span style=\"color: #00af00; text-decoration-color: #00af00\">30</span>, <span style=\"color: #00af00; text-decoration-color: #00af00\">30</span>,    │          <span style=\"color: #00af00; text-decoration-color: #00af00\">0</span> │ conv2d_1[<span style=\"color: #00af00; text-decoration-color: #00af00\">0</span>][<span style=\"color: #00af00; text-decoration-color: #00af00\">0</span>]    │\n",
       "│ (<span style=\"color: #0087ff; text-decoration-color: #0087ff\">MaxPooling2D</span>)      │ <span style=\"color: #00af00; text-decoration-color: #00af00\">64</span>)               │            │                   │\n",
       "├─────────────────────┼───────────────────┼────────────┼───────────────────┤\n",
       "│ flatten (<span style=\"color: #0087ff; text-decoration-color: #0087ff\">Flatten</span>)   │ (<span style=\"color: #00d7ff; text-decoration-color: #00d7ff\">None</span>, <span style=\"color: #00af00; text-decoration-color: #00af00\">57600</span>)     │          <span style=\"color: #00af00; text-decoration-color: #00af00\">0</span> │ max_pooling2d_1[<span style=\"color: #00af00; text-decoration-color: #00af00\">…</span> │\n",
       "├─────────────────────┼───────────────────┼────────────┼───────────────────┤\n",
       "│ dense (<span style=\"color: #0087ff; text-decoration-color: #0087ff\">Dense</span>)       │ (<span style=\"color: #00d7ff; text-decoration-color: #00d7ff\">None</span>, <span style=\"color: #00af00; text-decoration-color: #00af00\">128</span>)       │  <span style=\"color: #00af00; text-decoration-color: #00af00\">7,372,928</span> │ flatten[<span style=\"color: #00af00; text-decoration-color: #00af00\">0</span>][<span style=\"color: #00af00; text-decoration-color: #00af00\">0</span>]     │\n",
       "├─────────────────────┼───────────────────┼────────────┼───────────────────┤\n",
       "│ dropout (<span style=\"color: #0087ff; text-decoration-color: #0087ff\">Dropout</span>)   │ (<span style=\"color: #00d7ff; text-decoration-color: #00d7ff\">None</span>, <span style=\"color: #00af00; text-decoration-color: #00af00\">128</span>)       │          <span style=\"color: #00af00; text-decoration-color: #00af00\">0</span> │ dense[<span style=\"color: #00af00; text-decoration-color: #00af00\">0</span>][<span style=\"color: #00af00; text-decoration-color: #00af00\">0</span>]       │\n",
       "├─────────────────────┼───────────────────┼────────────┼───────────────────┤\n",
       "│ input_layer_1       │ (<span style=\"color: #00d7ff; text-decoration-color: #00d7ff\">None</span>, <span style=\"color: #00af00; text-decoration-color: #00af00\">3</span>)         │          <span style=\"color: #00af00; text-decoration-color: #00af00\">0</span> │ -                 │\n",
       "│ (<span style=\"color: #0087ff; text-decoration-color: #0087ff\">InputLayer</span>)        │                   │            │                   │\n",
       "├─────────────────────┼───────────────────┼────────────┼───────────────────┤\n",
       "│ concatenate         │ (<span style=\"color: #00d7ff; text-decoration-color: #00d7ff\">None</span>, <span style=\"color: #00af00; text-decoration-color: #00af00\">131</span>)       │          <span style=\"color: #00af00; text-decoration-color: #00af00\">0</span> │ dropout[<span style=\"color: #00af00; text-decoration-color: #00af00\">0</span>][<span style=\"color: #00af00; text-decoration-color: #00af00\">0</span>],    │\n",
       "│ (<span style=\"color: #0087ff; text-decoration-color: #0087ff\">Concatenate</span>)       │                   │            │ input_layer_1[<span style=\"color: #00af00; text-decoration-color: #00af00\">0</span>]… │\n",
       "├─────────────────────┼───────────────────┼────────────┼───────────────────┤\n",
       "│ dense_1 (<span style=\"color: #0087ff; text-decoration-color: #0087ff\">Dense</span>)     │ (<span style=\"color: #00d7ff; text-decoration-color: #00d7ff\">None</span>, <span style=\"color: #00af00; text-decoration-color: #00af00\">128</span>)       │     <span style=\"color: #00af00; text-decoration-color: #00af00\">16,896</span> │ concatenate[<span style=\"color: #00af00; text-decoration-color: #00af00\">0</span>][<span style=\"color: #00af00; text-decoration-color: #00af00\">0</span>] │\n",
       "├─────────────────────┼───────────────────┼────────────┼───────────────────┤\n",
       "│ dense_2 (<span style=\"color: #0087ff; text-decoration-color: #0087ff\">Dense</span>)     │ (<span style=\"color: #00d7ff; text-decoration-color: #00d7ff\">None</span>, <span style=\"color: #00af00; text-decoration-color: #00af00\">64</span>)        │      <span style=\"color: #00af00; text-decoration-color: #00af00\">8,256</span> │ dense_1[<span style=\"color: #00af00; text-decoration-color: #00af00\">0</span>][<span style=\"color: #00af00; text-decoration-color: #00af00\">0</span>]     │\n",
       "├─────────────────────┼───────────────────┼────────────┼───────────────────┤\n",
       "│ dense_3 (<span style=\"color: #0087ff; text-decoration-color: #0087ff\">Dense</span>)     │ (<span style=\"color: #00d7ff; text-decoration-color: #00d7ff\">None</span>, <span style=\"color: #00af00; text-decoration-color: #00af00\">1</span>)         │         <span style=\"color: #00af00; text-decoration-color: #00af00\">65</span> │ dense_2[<span style=\"color: #00af00; text-decoration-color: #00af00\">0</span>][<span style=\"color: #00af00; text-decoration-color: #00af00\">0</span>]     │\n",
       "└─────────────────────┴───────────────────┴────────────┴───────────────────┘\n",
       "</pre>\n"
      ],
      "text/plain": [
       "┏━━━━━━━━━━━━━━━━━━━━━┳━━━━━━━━━━━━━━━━━━━┳━━━━━━━━━━━━┳━━━━━━━━━━━━━━━━━━━┓\n",
       "┃\u001b[1m \u001b[0m\u001b[1mLayer (type)       \u001b[0m\u001b[1m \u001b[0m┃\u001b[1m \u001b[0m\u001b[1mOutput Shape     \u001b[0m\u001b[1m \u001b[0m┃\u001b[1m \u001b[0m\u001b[1m   Param #\u001b[0m\u001b[1m \u001b[0m┃\u001b[1m \u001b[0m\u001b[1mConnected to     \u001b[0m\u001b[1m \u001b[0m┃\n",
       "┡━━━━━━━━━━━━━━━━━━━━━╇━━━━━━━━━━━━━━━━━━━╇━━━━━━━━━━━━╇━━━━━━━━━━━━━━━━━━━┩\n",
       "│ input_layer         │ (\u001b[38;5;45mNone\u001b[0m, \u001b[38;5;34m128\u001b[0m, \u001b[38;5;34m128\u001b[0m,  │          \u001b[38;5;34m0\u001b[0m │ -                 │\n",
       "│ (\u001b[38;5;33mInputLayer\u001b[0m)        │ \u001b[38;5;34m3\u001b[0m)                │            │                   │\n",
       "├─────────────────────┼───────────────────┼────────────┼───────────────────┤\n",
       "│ conv2d (\u001b[38;5;33mConv2D\u001b[0m)     │ (\u001b[38;5;45mNone\u001b[0m, \u001b[38;5;34m126\u001b[0m, \u001b[38;5;34m126\u001b[0m,  │        \u001b[38;5;34m896\u001b[0m │ input_layer[\u001b[38;5;34m0\u001b[0m][\u001b[38;5;34m0\u001b[0m] │\n",
       "│                     │ \u001b[38;5;34m32\u001b[0m)               │            │                   │\n",
       "├─────────────────────┼───────────────────┼────────────┼───────────────────┤\n",
       "│ max_pooling2d       │ (\u001b[38;5;45mNone\u001b[0m, \u001b[38;5;34m63\u001b[0m, \u001b[38;5;34m63\u001b[0m,    │          \u001b[38;5;34m0\u001b[0m │ conv2d[\u001b[38;5;34m0\u001b[0m][\u001b[38;5;34m0\u001b[0m]      │\n",
       "│ (\u001b[38;5;33mMaxPooling2D\u001b[0m)      │ \u001b[38;5;34m32\u001b[0m)               │            │                   │\n",
       "├─────────────────────┼───────────────────┼────────────┼───────────────────┤\n",
       "│ conv2d_1 (\u001b[38;5;33mConv2D\u001b[0m)   │ (\u001b[38;5;45mNone\u001b[0m, \u001b[38;5;34m61\u001b[0m, \u001b[38;5;34m61\u001b[0m,    │     \u001b[38;5;34m18,496\u001b[0m │ max_pooling2d[\u001b[38;5;34m0\u001b[0m]… │\n",
       "│                     │ \u001b[38;5;34m64\u001b[0m)               │            │                   │\n",
       "├─────────────────────┼───────────────────┼────────────┼───────────────────┤\n",
       "│ max_pooling2d_1     │ (\u001b[38;5;45mNone\u001b[0m, \u001b[38;5;34m30\u001b[0m, \u001b[38;5;34m30\u001b[0m,    │          \u001b[38;5;34m0\u001b[0m │ conv2d_1[\u001b[38;5;34m0\u001b[0m][\u001b[38;5;34m0\u001b[0m]    │\n",
       "│ (\u001b[38;5;33mMaxPooling2D\u001b[0m)      │ \u001b[38;5;34m64\u001b[0m)               │            │                   │\n",
       "├─────────────────────┼───────────────────┼────────────┼───────────────────┤\n",
       "│ flatten (\u001b[38;5;33mFlatten\u001b[0m)   │ (\u001b[38;5;45mNone\u001b[0m, \u001b[38;5;34m57600\u001b[0m)     │          \u001b[38;5;34m0\u001b[0m │ max_pooling2d_1[\u001b[38;5;34m…\u001b[0m │\n",
       "├─────────────────────┼───────────────────┼────────────┼───────────────────┤\n",
       "│ dense (\u001b[38;5;33mDense\u001b[0m)       │ (\u001b[38;5;45mNone\u001b[0m, \u001b[38;5;34m128\u001b[0m)       │  \u001b[38;5;34m7,372,928\u001b[0m │ flatten[\u001b[38;5;34m0\u001b[0m][\u001b[38;5;34m0\u001b[0m]     │\n",
       "├─────────────────────┼───────────────────┼────────────┼───────────────────┤\n",
       "│ dropout (\u001b[38;5;33mDropout\u001b[0m)   │ (\u001b[38;5;45mNone\u001b[0m, \u001b[38;5;34m128\u001b[0m)       │          \u001b[38;5;34m0\u001b[0m │ dense[\u001b[38;5;34m0\u001b[0m][\u001b[38;5;34m0\u001b[0m]       │\n",
       "├─────────────────────┼───────────────────┼────────────┼───────────────────┤\n",
       "│ input_layer_1       │ (\u001b[38;5;45mNone\u001b[0m, \u001b[38;5;34m3\u001b[0m)         │          \u001b[38;5;34m0\u001b[0m │ -                 │\n",
       "│ (\u001b[38;5;33mInputLayer\u001b[0m)        │                   │            │                   │\n",
       "├─────────────────────┼───────────────────┼────────────┼───────────────────┤\n",
       "│ concatenate         │ (\u001b[38;5;45mNone\u001b[0m, \u001b[38;5;34m131\u001b[0m)       │          \u001b[38;5;34m0\u001b[0m │ dropout[\u001b[38;5;34m0\u001b[0m][\u001b[38;5;34m0\u001b[0m],    │\n",
       "│ (\u001b[38;5;33mConcatenate\u001b[0m)       │                   │            │ input_layer_1[\u001b[38;5;34m0\u001b[0m]… │\n",
       "├─────────────────────┼───────────────────┼────────────┼───────────────────┤\n",
       "│ dense_1 (\u001b[38;5;33mDense\u001b[0m)     │ (\u001b[38;5;45mNone\u001b[0m, \u001b[38;5;34m128\u001b[0m)       │     \u001b[38;5;34m16,896\u001b[0m │ concatenate[\u001b[38;5;34m0\u001b[0m][\u001b[38;5;34m0\u001b[0m] │\n",
       "├─────────────────────┼───────────────────┼────────────┼───────────────────┤\n",
       "│ dense_2 (\u001b[38;5;33mDense\u001b[0m)     │ (\u001b[38;5;45mNone\u001b[0m, \u001b[38;5;34m64\u001b[0m)        │      \u001b[38;5;34m8,256\u001b[0m │ dense_1[\u001b[38;5;34m0\u001b[0m][\u001b[38;5;34m0\u001b[0m]     │\n",
       "├─────────────────────┼───────────────────┼────────────┼───────────────────┤\n",
       "│ dense_3 (\u001b[38;5;33mDense\u001b[0m)     │ (\u001b[38;5;45mNone\u001b[0m, \u001b[38;5;34m1\u001b[0m)         │         \u001b[38;5;34m65\u001b[0m │ dense_2[\u001b[38;5;34m0\u001b[0m][\u001b[38;5;34m0\u001b[0m]     │\n",
       "└─────────────────────┴───────────────────┴────────────┴───────────────────┘\n"
      ]
     },
     "metadata": {},
     "output_type": "display_data"
    },
    {
     "data": {
      "text/html": [
       "<pre style=\"white-space:pre;overflow-x:auto;line-height:normal;font-family:Menlo,'DejaVu Sans Mono',consolas,'Courier New',monospace\"><span style=\"font-weight: bold\"> Total params: </span><span style=\"color: #00af00; text-decoration-color: #00af00\">7,417,537</span> (28.30 MB)\n",
       "</pre>\n"
      ],
      "text/plain": [
       "\u001b[1m Total params: \u001b[0m\u001b[38;5;34m7,417,537\u001b[0m (28.30 MB)\n"
      ]
     },
     "metadata": {},
     "output_type": "display_data"
    },
    {
     "data": {
      "text/html": [
       "<pre style=\"white-space:pre;overflow-x:auto;line-height:normal;font-family:Menlo,'DejaVu Sans Mono',consolas,'Courier New',monospace\"><span style=\"font-weight: bold\"> Trainable params: </span><span style=\"color: #00af00; text-decoration-color: #00af00\">7,417,537</span> (28.30 MB)\n",
       "</pre>\n"
      ],
      "text/plain": [
       "\u001b[1m Trainable params: \u001b[0m\u001b[38;5;34m7,417,537\u001b[0m (28.30 MB)\n"
      ]
     },
     "metadata": {},
     "output_type": "display_data"
    },
    {
     "data": {
      "text/html": [
       "<pre style=\"white-space:pre;overflow-x:auto;line-height:normal;font-family:Menlo,'DejaVu Sans Mono',consolas,'Courier New',monospace\"><span style=\"font-weight: bold\"> Non-trainable params: </span><span style=\"color: #00af00; text-decoration-color: #00af00\">0</span> (0.00 B)\n",
       "</pre>\n"
      ],
      "text/plain": [
       "\u001b[1m Non-trainable params: \u001b[0m\u001b[38;5;34m0\u001b[0m (0.00 B)\n"
      ]
     },
     "metadata": {},
     "output_type": "display_data"
    }
   ],
   "source": [
    "# Tabular input\n",
    "tab_input = Input(shape=(X_tab_train.shape[1],))\n",
    "\n",
    "# Combine features\n",
    "combined = Concatenate()([img_features, tab_input])\n",
    "combined = Dense(128, activation='relu')(combined)\n",
    "combined = Dense(64, activation='relu')(combined)\n",
    "output = Dense(1, activation='linear')(combined)  # regression output\n",
    "\n",
    "# Full model\n",
    "model = Model(inputs=[img_input, tab_input], outputs=output)\n",
    "model.compile(optimizer=Adam(1e-3), loss='mse', metrics=['mae'])\n",
    "model.summary()\n"
   ]
  },
  {
   "cell_type": "code",
   "execution_count": 8,
   "id": "401562e8-035b-4ba7-99f0-1f575f4e5094",
   "metadata": {},
   "outputs": [
    {
     "name": "stdout",
     "output_type": "stream",
     "text": [
      "Epoch 1/50\n",
      "4/4 - 7s - 2s/step - loss: 322545123328.0000 - mae: 504815.5625 - val_loss: 416536559616.0000 - val_mae: 574340.5000\n",
      "Epoch 2/50\n",
      "4/4 - 4s - 1s/step - loss: 322376499200.0000 - mae: 504653.5000 - val_loss: 416134791168.0000 - val_mae: 573990.5625\n",
      "Epoch 3/50\n",
      "4/4 - 1s - 257ms/step - loss: 321728446464.0000 - mae: 504044.6875 - val_loss: 414750539776.0000 - val_mae: 572783.3750\n",
      "Epoch 4/50\n",
      "4/4 - 1s - 246ms/step - loss: 319888097280.0000 - mae: 502180.0625 - val_loss: 410964590592.0000 - val_mae: 569468.5000\n",
      "Epoch 5/50\n",
      "4/4 - 1s - 251ms/step - loss: 314364690432.0000 - mae: 497062.5312 - val_loss: 401498898432.0000 - val_mae: 561095.1250\n",
      "Epoch 6/50\n",
      "4/4 - 1s - 251ms/step - loss: 303022440448.0000 - mae: 484836.0625 - val_loss: 380129312768.0000 - val_mae: 541716.2500\n",
      "Epoch 7/50\n",
      "4/4 - 1s - 317ms/step - loss: 280271912960.0000 - mae: 458776.8438 - val_loss: 336424894464.0000 - val_mae: 499748.5625\n",
      "Epoch 8/50\n",
      "4/4 - 2s - 505ms/step - loss: 233112715264.0000 - mae: 402644.7188 - val_loss: 258616999936.0000 - val_mae: 423202.7500\n",
      "Epoch 9/50\n",
      "4/4 - 1s - 235ms/step - loss: 151165763584.0000 - mae: 304385.6250 - val_loss: 148539817984.0000 - val_mae: 339892.0625\n",
      "Epoch 10/50\n",
      "4/4 - 2s - 462ms/step - loss: 78998519808.0000 - mae: 240439.9219 - val_loss: 87139385344.0000 - val_mae: 245330.3750\n",
      "Epoch 11/50\n",
      "4/4 - 2s - 449ms/step - loss: 88013824000.0000 - mae: 253025.3906 - val_loss: 100165263360.0000 - val_mae: 267915.0312\n",
      "Epoch 12/50\n",
      "4/4 - 2s - 550ms/step - loss: 95958630400.0000 - mae: 263377.7188 - val_loss: 87050485760.0000 - val_mae: 245327.9062\n",
      "Epoch 13/50\n",
      "4/4 - 2s - 596ms/step - loss: 70643933184.0000 - mae: 226764.4062 - val_loss: 109108371456.0000 - val_mae: 290425.5000\n",
      "Epoch 14/50\n",
      "4/4 - 2s - 572ms/step - loss: 76740599808.0000 - mae: 230871.4062 - val_loss: 118148497408.0000 - val_mae: 304240.9375\n",
      "Epoch 15/50\n",
      "4/4 - 2s - 525ms/step - loss: 84502421504.0000 - mae: 242746.6875 - val_loss: 108745891840.0000 - val_mae: 289817.8438\n",
      "Epoch 16/50\n",
      "4/4 - 1s - 270ms/step - loss: 75675394048.0000 - mae: 239860.9844 - val_loss: 92279619584.0000 - val_mae: 255927.7812\n",
      "Epoch 17/50\n",
      "4/4 - 1s - 310ms/step - loss: 79961341952.0000 - mae: 249491.7500 - val_loss: 88838242304.0000 - val_mae: 248802.0938\n",
      "Epoch 18/50\n",
      "4/4 - 2s - 520ms/step - loss: 77361881088.0000 - mae: 247610.0000 - val_loss: 91889352704.0000 - val_mae: 255261.8125\n",
      "Epoch 19/50\n",
      "4/4 - 2s - 489ms/step - loss: 69908324352.0000 - mae: 230091.9688 - val_loss: 93944373248.0000 - val_mae: 258534.1875\n",
      "Epoch 20/50\n",
      "4/4 - 2s - 450ms/step - loss: 75309957120.0000 - mae: 244497.1250 - val_loss: 94545903616.0000 - val_mae: 259873.7344\n",
      "Epoch 21/50\n",
      "4/4 - 3s - 756ms/step - loss: 63233425408.0000 - mae: 220328.6562 - val_loss: 92156305408.0000 - val_mae: 255719.4062\n",
      "Epoch 22/50\n",
      "4/4 - 2s - 468ms/step - loss: 61916524544.0000 - mae: 218042.6875 - val_loss: 89963020288.0000 - val_mae: 251527.3125\n",
      "Epoch 23/50\n",
      "4/4 - 1s - 323ms/step - loss: 76557352960.0000 - mae: 243394.9688 - val_loss: 91008614400.0000 - val_mae: 253659.8750\n",
      "Epoch 24/50\n",
      "4/4 - 1s - 364ms/step - loss: 77690126336.0000 - mae: 244876.9844 - val_loss: 94171783168.0000 - val_mae: 258865.4531\n",
      "Epoch 25/50\n",
      "4/4 - 1s - 323ms/step - loss: 72573870080.0000 - mae: 233791.4688 - val_loss: 96496812032.0000 - val_mae: 265073.2500\n",
      "Epoch 26/50\n",
      "4/4 - 2s - 417ms/step - loss: 71724548096.0000 - mae: 232716.4062 - val_loss: 97041465344.0000 - val_mae: 266429.9375\n",
      "Epoch 27/50\n",
      "4/4 - 1s - 359ms/step - loss: 70728024064.0000 - mae: 234238.3750 - val_loss: 93744783360.0000 - val_mae: 258238.0625\n",
      "Epoch 28/50\n",
      "4/4 - 1s - 273ms/step - loss: 70083264512.0000 - mae: 232227.4531 - val_loss: 92839772160.0000 - val_mae: 256842.4219\n",
      "Epoch 29/50\n",
      "4/4 - 2s - 463ms/step - loss: 71338426368.0000 - mae: 232115.6250 - val_loss: 91412692992.0000 - val_mae: 254412.4219\n",
      "Epoch 30/50\n",
      "4/4 - 3s - 654ms/step - loss: 73858285568.0000 - mae: 235756.9375 - val_loss: 91319664640.0000 - val_mae: 254241.7969\n",
      "Epoch 31/50\n",
      "4/4 - 1s - 328ms/step - loss: 65054310400.0000 - mae: 233090.1875 - val_loss: 93713530880.0000 - val_mae: 258191.0312\n",
      "Epoch 32/50\n",
      "4/4 - 2s - 378ms/step - loss: 74192076800.0000 - mae: 238067.8594 - val_loss: 89170173952.0000 - val_mae: 249666.0625\n",
      "Epoch 33/50\n",
      "4/4 - 1s - 300ms/step - loss: 67183271936.0000 - mae: 225293.3906 - val_loss: 90795868160.0000 - val_mae: 253247.6250\n",
      "Epoch 34/50\n",
      "4/4 - 2s - 383ms/step - loss: 70202212352.0000 - mae: 233269.1406 - val_loss: 93740417024.0000 - val_mae: 258230.9062\n",
      "Epoch 35/50\n",
      "4/4 - 1s - 323ms/step - loss: 73015721984.0000 - mae: 231471.0625 - val_loss: 93291667456.0000 - val_mae: 257550.6562\n",
      "Epoch 36/50\n",
      "4/4 - 2s - 407ms/step - loss: 71425384448.0000 - mae: 230655.4375 - val_loss: 95401312256.0000 - val_mae: 262221.5000\n",
      "Epoch 37/50\n",
      "4/4 - 2s - 420ms/step - loss: 79968935936.0000 - mae: 248155.4688 - val_loss: 88893513728.0000 - val_mae: 248946.5312\n",
      "Epoch 38/50\n",
      "4/4 - 2s - 582ms/step - loss: 70960914432.0000 - mae: 237425.6562 - val_loss: 93902086144.0000 - val_mae: 258470.3438\n",
      "Epoch 39/50\n",
      "4/4 - 2s - 483ms/step - loss: 65373487104.0000 - mae: 226439.8750 - val_loss: 97674887168.0000 - val_mae: 267960.9375\n",
      "Epoch 40/50\n",
      "4/4 - 3s - 675ms/step - loss: 69234712576.0000 - mae: 227021.1094 - val_loss: 95582339072.0000 - val_mae: 262703.2188\n",
      "Epoch 41/50\n",
      "4/4 - 2s - 431ms/step - loss: 74775805952.0000 - mae: 236416.4844 - val_loss: 94263656448.0000 - val_mae: 259064.0312\n",
      "Epoch 42/50\n",
      "4/4 - 3s - 721ms/step - loss: 73211977728.0000 - mae: 236207.0781 - val_loss: 93180026880.0000 - val_mae: 257377.2344\n",
      "Epoch 43/50\n",
      "4/4 - 1s - 220ms/step - loss: 72848187392.0000 - mae: 236157.5312 - val_loss: 90282393600.0000 - val_mae: 252207.9688\n",
      "Epoch 44/50\n",
      "4/4 - 2s - 486ms/step - loss: 68193202176.0000 - mae: 239185.2500 - val_loss: 93632364544.0000 - val_mae: 258068.4375\n",
      "Epoch 45/50\n",
      "4/4 - 4s - 1s/step - loss: 70527082496.0000 - mae: 222042.3125 - val_loss: 94102790144.0000 - val_mae: 258763.7500\n",
      "Epoch 46/50\n",
      "4/4 - 5s - 1s/step - loss: 71152025600.0000 - mae: 236208.7031 - val_loss: 95347613696.0000 - val_mae: 262074.7812\n",
      "Epoch 47/50\n",
      "4/4 - 1s - 328ms/step - loss: 71877459968.0000 - mae: 236512.7344 - val_loss: 99666837504.0000 - val_mae: 272514.3438\n",
      "Epoch 48/50\n",
      "4/4 - 2s - 455ms/step - loss: 77201956864.0000 - mae: 235004.1250 - val_loss: 96121782272.0000 - val_mae: 264111.1875\n",
      "Epoch 49/50\n",
      "4/4 - 1s - 315ms/step - loss: 74339368960.0000 - mae: 231130.1875 - val_loss: 91146838016.0000 - val_mae: 253918.2656\n",
      "Epoch 50/50\n",
      "4/4 - 1s - 356ms/step - loss: 70367535104.0000 - mae: 236989.3906 - val_loss: 91747311616.0000 - val_mae: 255009.8438\n"
     ]
    }
   ],
   "source": [
    "history = model.fit(\n",
    "    [X_img_train, X_tab_train], y_train,\n",
    "    validation_split=0.2,\n",
    "    epochs=50,\n",
    "    batch_size=8,\n",
    "    verbose=2\n",
    ")\n"
   ]
  },
  {
   "cell_type": "code",
   "execution_count": 9,
   "id": "707abed9-03f1-492c-a4ab-16303c682f48",
   "metadata": {},
   "outputs": [
    {
     "name": "stdout",
     "output_type": "stream",
     "text": [
      "\u001b[1m1/1\u001b[0m \u001b[32m━━━━━━━━━━━━━━━━━━━━\u001b[0m\u001b[37m\u001b[0m \u001b[1m0s\u001b[0m 375ms/step\n",
      "Test MAE: 202912.23\n",
      "Test RMSE: 267010.29\n"
     ]
    }
   ],
   "source": [
    "# Predict on test set\n",
    "y_pred = model.predict([X_img_test, X_tab_test])\n",
    "\n",
    "# Metrics\n",
    "mae = mean_absolute_error(y_test, y_pred)\n",
    "rmse = np.sqrt(mean_squared_error(y_test, y_pred))\n",
    "print(f\"Test MAE: {mae:.2f}\")\n",
    "print(f\"Test RMSE: {rmse:.2f}\")\n"
   ]
  },
  {
   "cell_type": "code",
   "execution_count": 10,
   "id": "7d1b8cc7-ca7e-482e-a25c-fe7683613323",
   "metadata": {},
   "outputs": [
    {
     "data": {
      "image/png": "[encoded data removed]",
      "text/plain": [
       "<Figure size 1000x400 with 1 Axes>"
      ]
     },
     "metadata": {},
     "output_type": "display_data"
    }
   ],
   "source": [
    "plt.figure(figsize=(10,4))\n",
    "plt.plot(history.history['mae'], label='Train MAE')\n",
    "plt.plot(history.history['val_mae'], label='Val MAE')\n",
    "plt.xlabel('Epoch')\n",
    "plt.ylabel('MAE')\n",
    "plt.legend()\n",
    "plt.show()\n"
   ]
  },
  {
   "cell_type": "code",
   "execution_count": null,
   "id": "c65f055a-e912-4c72-9dce-df806bec4982",
   "metadata": {},
   "outputs": [],
   "source": []
  }
 ],
 "metadata": {
  "kernelspec": {
   "display_name": "Python 3 (ipykernel)",
   "language": "python",
   "name": "python3"
  },
  "language_info": {
   "codemirror_mode": {
    "name": "ipython",
    "version": 3
   },
   "file_extension": ".py",
   "mimetype": "text/x-python",
   "name": "python",
   "nbconvert_exporter": "python",
   "pygments_lexer": "ipython3",
   "version": "3.13.5"
  }
 },
 "nbformat": 4,
 "nbformat_minor": 5
}
